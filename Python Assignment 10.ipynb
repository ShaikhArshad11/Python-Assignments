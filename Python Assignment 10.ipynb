{
 "cells": [
  {
   "cell_type": "raw",
   "id": "a8ada43e",
   "metadata": {},
   "source": [
    "1. How do you distinguish between shutil.copy() and shutil.copytree()?\n",
    "ans : shutil.copy() will copy a single file, shutil. shutil.copytree() will copy an entire folder and every folder and file         contained in it."
   ]
  },
  {
   "cell_type": "raw",
   "id": "07b16956",
   "metadata": {},
   "source": [
    "2. What function is used to rename files??\n",
    "ans : os.rename() method os used to rename files."
   ]
  },
  {
   "cell_type": "raw",
   "id": "6acbe5de",
   "metadata": {},
   "source": [
    "3. What is the difference between the delete functions in the send2trash and shutil modules?\n",
    "ans : The send2trash functions will move a file to the recycle bin, while shutil functions will permanently delete         files and folders."
   ]
  },
  {
   "cell_type": "raw",
   "id": "4fe59f1b",
   "metadata": {},
   "source": [
    "4.ZipFile objects have a close() method just like File objects’ close() method. What ZipFile method is\n",
    "equivalent to File objects’ open() method?\n",
    "ans : The zipfile. ZipFile() function is equivalent to the open() function."
   ]
  },
  {
   "cell_type": "raw",
   "id": "bf938481",
   "metadata": {},
   "source": [
    "5. Create a programme that searches a folder tree for files with a certain file extension (such as .pdf\n",
    "or .jpg). Copy these files from whatever location they are in to a new folder.\n",
    "ans : \n",
    "import os, shutil\n",
    "\n",
    "def move_file(folder):\n",
    "    for folderName, subfolders, filenames in os.walk(folder):\n",
    "        for subfolder in subfolders:\n",
    "            for filename in filenames:\n",
    "                if filename.endswith('.jpg'):\n",
    "                    shutil.copy(folder + filename, '<destination>')\n",
    "\n",
    "move_file('<source>')"
   ]
  }
 ],
 "metadata": {
  "kernelspec": {
   "display_name": "Python 3 (ipykernel)",
   "language": "python",
   "name": "python3"
  },
  "language_info": {
   "codemirror_mode": {
    "name": "ipython",
    "version": 3
   },
   "file_extension": ".py",
   "mimetype": "text/x-python",
   "name": "python",
   "nbconvert_exporter": "python",
   "pygments_lexer": "ipython3",
   "version": "3.9.12"
  }
 },
 "nbformat": 4,
 "nbformat_minor": 5
}
