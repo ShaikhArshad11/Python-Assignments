{
 "cells": [
  {
   "cell_type": "raw",
   "id": "fad1d4e5",
   "metadata": {},
   "source": [
    "1. Create an assert statement that throws an AssertionError if the variable spam is a negative\n",
    "integer.\n",
    "ans : assert spam < 0, 'The spam variable is a negative integer.'"
   ]
  },
  {
   "cell_type": "raw",
   "id": "c53d321a",
   "metadata": {},
   "source": [
    "2. Write an assert statement that triggers an AssertionError if the variables eggs and bacon contain\n",
    "strings that are the same as each other, even if their cases are different (that is, 'hello' and 'hello' are\n",
    "considered the same, and 'goodbye' and 'GOODbye' are also considered the same).\n",
    "ans : assert eggs.lower() != bacon.lower(), 'The eggs and bacon variables contain the same string (case insensitive).'"
   ]
  },
  {
   "cell_type": "raw",
   "id": "60999735",
   "metadata": {},
   "source": [
    "3. Create an assert statement that throws an AssertionError every time.\n",
    "ans : assert False, 'Write an assert statement that always triggers an AssertionError.'"
   ]
  },
  {
   "cell_type": "raw",
   "id": "eaffba74",
   "metadata": {},
   "source": [
    "4. What are the two lines that must be present in your software in order to call logging.debug()?\n",
    "ans : import logging logging.basicConfig(level=logging.DEBUG, format=' %(asctime)s - %(levelname)s - %(message)s')"
   ]
  },
  {
   "cell_type": "raw",
   "id": "b994afe6",
   "metadata": {},
   "source": [
    "5. What are the two lines that your program must have in order to have logging.debug() send a\n",
    "logging message to a file named programLog.txt?\n",
    "ans : import logging logging.basicConfig(filename='programLog.txt', level=logging.DEBUG, format=' %(asctime)s - %(levelname)s -       %(message)s')"
   ]
  },
  {
   "cell_type": "raw",
   "id": "07815d9d",
   "metadata": {},
   "source": [
    "6. What are the five levels of logging?\n",
    "ans : Five levels of logging are :\n",
    "      1.DEBUG \n",
    "      2.INFO \n",
    "      3.WARNING \n",
    "      4.ERROR \n",
    "      5.CRITICAL"
   ]
  },
  {
   "cell_type": "raw",
   "id": "3242a4c1",
   "metadata": {},
   "source": [
    "7. What line of code would you add to your software to disable all logging messages?\n",
    "ans : logging.disable(logging.CRITICAL)"
   ]
  },
  {
   "cell_type": "raw",
   "id": "4ae42f85",
   "metadata": {},
   "source": [
    "8.Why is using logging messages better than using print() to display the same message?\n",
    "ans : Once we're done debugging, we'll end up spending a lot of time removing print() calls from our code for each log message.       We might even accidentally remove some print() calls that were being used for nonlog messages. The nice thing about log         messages is that you're free to fill your program with as many as you like, and you can always disable them later by           adding a single logging.disable(logging.CRITICAL) call. Unlike print(), the logging module makes it easy to switch             between showing and hiding log messages."
   ]
  },
  {
   "cell_type": "raw",
   "id": "2ca41e10",
   "metadata": {},
   "source": [
    "9. What are the differences between the Step Over, Step In, and Step Out buttons in the debugger?\n",
    "ans : Step Over command: This command lets the application execute the next action. If the action involves a call to an               operation, it does not step into its implementation .\n",
    "\n",
    "      Step Into command: This command lets the application execute the next action. If the action involves a call to an               operation, it steps into its implementation and breaks the execution on the first action of that implementation.\n",
    "\n",
    "      Step Out command: This command lets the application execute until the currently executed operation implementation is           returned."
   ]
  },
  {
   "cell_type": "raw",
   "id": "9226abe6",
   "metadata": {},
   "source": [
    "10.After you click Continue, when will the debugger stop ?\n",
    "ans :  Continue execution and only stop when a breakpoint is encountered."
   ]
  },
  {
   "cell_type": "raw",
   "id": "f2b0432b",
   "metadata": {},
   "source": [
    "11. What is the concept of a breakpoint?\n",
    "ans : To set a breakpoint, right-click the line in the file editor and select Set Breakpoint."
   ]
  }
 ],
 "metadata": {
  "kernelspec": {
   "display_name": "Python 3 (ipykernel)",
   "language": "python",
   "name": "python3"
  },
  "language_info": {
   "codemirror_mode": {
    "name": "ipython",
    "version": 3
   },
   "file_extension": ".py",
   "mimetype": "text/x-python",
   "name": "python",
   "nbconvert_exporter": "python",
   "pygments_lexer": "ipython3",
   "version": "3.9.12"
  }
 },
 "nbformat": 4,
 "nbformat_minor": 5
}
