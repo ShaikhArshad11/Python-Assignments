{
 "cells": [
  {
   "cell_type": "raw",
   "id": "c3f72e1b-e2b6-462d-a6b7-6b9551841761",
   "metadata": {},
   "source": [
    "1. What is the name of the feature responsible for generating Regex objects?\n",
    "ans. The re.compile() function"
   ]
  },
  {
   "cell_type": "raw",
   "id": "9ad0968d-35c6-4aa7-8c59-4ccd661af957",
   "metadata": {},
   "source": [
    "2. Why do raw strings often appear in Regex objects?\n",
    "ans. Raw strings are used so that backslashes do not have to be escaped."
   ]
  },
  {
   "cell_type": "raw",
   "id": "79d06591-cb42-4f82-8c9d-26193af1f4f1",
   "metadata": {},
   "source": [
    "3. What is the return value of the search() method?\n",
    "ans. The search() function takes two parameters and returns a match object if there is a match."
   ]
  },
  {
   "cell_type": "raw",
   "id": "5cf9c6e0-4218-402c-bfaf-07c5ecaee7d4",
   "metadata": {},
   "source": [
    "4. From a Match item, how do you get the actual strings that match the pattern?\n",
    "ans. By using the group() method."
   ]
  },
  {
   "cell_type": "raw",
   "id": "c24e4590-675e-4855-9ba9-f112c6350680",
   "metadata": {},
   "source": [
    "5. In the regex which created from the r'(\\d\\d\\d)-(\\d\\d\\d-\\d\\d\\d\\d)', what does group zero cover?\n",
    "Group 2? Group 1?\n",
    "ans. Group zero covers the entire match Group 1 covers the first set of parentheses and group 2 covers the second\n",
    "set of parentheses ."
   ]
  },
  {
   "cell_type": "raw",
   "id": "4a13a4e8-873d-479f-8135-1f9b192b32f9",
   "metadata": {},
   "source": [
    "6. In standard expression syntax, parentheses and intervals have distinct meanings. How can you tell\n",
    "a regex that you want it to fit real parentheses and periods?\n",
    "ans. Periods and parentheses can be escaped with a backslash."
   ]
  },
  {
   "cell_type": "raw",
   "id": "8d63579c-32d1-46a2-ac5f-08e3bc10d4ef",
   "metadata": {},
   "source": [
    "7. The findall() method returns a string list or a list of string tuples. What causes it to return one of\n",
    "the two options?\n",
    "ans.  If the regex has no groups a list of strings is returned. If the regex has groups it returns a list of tuples of strings."
   ]
  },
  {
   "cell_type": "raw",
   "id": "ee7b8d61-7b4f-42fd-a9c0-b42bc6ba9b70",
   "metadata": {},
   "source": [
    "8. In standard expressions, what does the | character mean?\n",
    "ans. It is an OR operator."
   ]
  },
  {
   "cell_type": "raw",
   "id": "babd5f8f-f456-471c-b15e-e57c00ee46ba",
   "metadata": {},
   "source": [
    "9. In regular expressions, what does the character stand for?\n",
    "ans. All characters are same except  characters which has a special meaning."
   ]
  },
  {
   "cell_type": "raw",
   "id": "f68332ed-bce8-4da0-9aea-317a319c8f42",
   "metadata": {},
   "source": [
    "10.In regular expressions, what is the difference between the + and * characters?\n",
    "ans. * means that the preceding expression can match zero or more times. + indicate that the preceding expression must match at least one time."
   ]
  },
  {
   "cell_type": "raw",
   "id": "d0046881-d89d-4d2e-94ee-9bd2ff965982",
   "metadata": {},
   "source": [
    "11. What is the difference between {4} and {4,5} in regular expression?\n",
    "ans. {4} is saying match the pattern 4 times and {4,5} is saying match the pattern 4 to 5 times ."
   ]
  },
  {
   "cell_type": "raw",
   "id": "c4792bb7-20b6-4da9-8b35-ce36ba1251b2",
   "metadata": {},
   "source": [
    "12. What do you mean by the \\d, \\w, and \\s shorthand character classes signify in regular\n",
    "expressions?\n",
    "ans. \\d matches a decimal digit .\\w matches a word characters. \\s matches a single whitespace character."
   ]
  },
  {
   "cell_type": "raw",
   "id": "138c7d52-e10d-47e1-a9b7-ea1b110d1fa3",
   "metadata": {},
   "source": [
    "13. What do means by \\D, \\W, and \\S shorthand character classes signify in regular expressions?\n",
    "ans. \\D matches non-digits.\\S matches non-word characters. \\S matches non-spaces. "
   ]
  },
  {
   "cell_type": "raw",
   "id": "f2f8a831-fc74-4a6b-b0b5-fddcef9ff717",
   "metadata": {},
   "source": [
    "14. What is the difference between .*? and .*?\n",
    "ans.  They both matches any character. (I guess question prinying is wrong)"
   ]
  },
  {
   "cell_type": "raw",
   "id": "8e758ddb-70da-4643-99f4-7e956c4399c5",
   "metadata": {},
   "source": [
    "15. What is the syntax for matching both numbers and lowercase letters with a character class?\n",
    "ans. [0-9a-z]"
   ]
  },
  {
   "cell_type": "raw",
   "id": "d508dc63-c5e7-4344-b736-b4d670e3e4a3",
   "metadata": {},
   "source": [
    "16. What is the procedure for making a normal expression in regax case insensitive?\n",
    "ans. By passing re.IGNORECASE flag ."
   ]
  },
  {
   "cell_type": "raw",
   "id": "f19351a9-04a2-4326-b6d2-e4068123f07c",
   "metadata": {},
   "source": [
    "17. What does the . character normally match? What does it match if re.DOTALL is passed as 2nd\n",
    "argument in re.compile()?\n",
    "ans. '.' character normally matches any character except the newline character. If re.DOTALL is passed as the second argument to re.compile() then the dot will also match newline characters."
   ]
  },
  {
   "cell_type": "code",
   "execution_count": 8,
   "id": "7c286c2e-c016-41e0-86a9-e8e7f4c5e505",
   "metadata": {},
   "outputs": [
    {
     "data": {
      "text/plain": [
       "'XX drummers, XX pipers, five rings, X hen'"
      ]
     },
     "execution_count": 8,
     "metadata": {},
     "output_type": "execute_result"
    }
   ],
   "source": [
    "# 18. If numReg = re.compile(r'\\d'), what will numRegex.sub('X', '11 drummers, 10 pipers, five rings, 4\n",
    "# hen') return?\n",
    "import regex\n",
    "numReg = re.compile(r'\\d')\n",
    "numReg.sub('X', '11 drummers, 10 pipers, five rings, 4 hen')"
   ]
  },
  {
   "cell_type": "raw",
   "id": "905e8dbe-7b49-49d2-8838-d706f60a0263",
   "metadata": {},
   "source": [
    "19. What does passing re.VERBOSE as the 2nd argument to re.compile() allow to do?\n",
    "ans. To ignore whitespace and comments inside the regular expression string."
   ]
  },
  {
   "cell_type": "raw",
   "id": "9a0049f5-42ae-40e9-811c-6e9d164635f6",
   "metadata": {},
   "source": [
    "20. How would you write a regex that match a number with comma for every three digits? It must\n",
    "match the given following:\n",
    "'42'\n",
    "'1,234'\n",
    "'6,368,745'\n",
    "but not the following:\n",
    "'12,34,567' (which has only two digits between the commas)\n",
    "'1234' (which lacks commas)\n",
    "\n",
    "ans. numCommas = re.compile(r'(^\\d{1,3})(,\\d{3})*$') numCommas.search('12,34,567').group()"
   ]
  },
  {
   "cell_type": "raw",
   "id": "ff945279-d4e8-4c01-85cc-ec2c6af6627c",
   "metadata": {},
   "source": [
    "21. How would you write a regex that matches the full name of someone whose last name is\n",
    "Watanabe? You can assume that the first name that comes before it will always be one word that\n",
    "begins with a capital letter. The regex must match the following:\n",
    "'Haruto Watanabe'\n",
    "'Alice Watanabe'\n",
    "'RoboCop Watanabe'\n",
    "but not the following:\n",
    "'haruto Watanabe' (where the first name is not capitalized)\n",
    "'Mr. Watanabe' (where the preceding word has a nonletter character)\n",
    "'Watanabe' (which has no first name)\n",
    "'Haruto watanabe' (where Watanabe is not capitalized)\n",
    "\n",
    "ans. fullName = re.compile(r'[A-Z]\\w [A-Z]\\w') mo = fullName.findall('Haruto Watanabe, haruto Watanabe, Alice Watanabe, Mr. Watanabe, Robocop Watanabe, Haruto watanabe') mo.group()"
   ]
  },
  {
   "cell_type": "raw",
   "id": "496fbe82-79cb-49cc-abc7-e7c822219b1f",
   "metadata": {},
   "source": [
    "22. How would you write a regex that matches a sentence where the first word is either Alice, Bob,\n",
    "or Carol; the second word is either eats, pets, or throws; the third word is apples, cats, or baseballs;\n",
    "and the sentence ends with a period? This regex should be case-insensitive. It must match the\n",
    "following:\n",
    "'Alice eats apples.'\n",
    "'Bob pets cats.'\n",
    "'Carol throws baseballs.'\n",
    "'Alice throws Apples.'\n",
    "'BOB EATS CATS.'\n",
    "but not the following:\n",
    "'RoboCop eats apples.'\n",
    "'ALICE THROWS FOOTBALLS.'\n",
    "'Carol eats 7 cats.'\n",
    "\n",
    "ans. senRegex = re.compile(r'(Alice|Bob|Carol)\\s(eats|pets|throws)\\s(apples|cats|baseballs).', re.I|re.DOTALL)\n",
    "senRegex.findall('''Alice eats apples.'\n",
    "'Bob pets cats.'\n",
    "'Carol throws baseballs.'\n",
    "'Alice throws Apples.'\n",
    "'BOB EATS CATS.'\n",
    "but not the following:\n",
    "'Robocop eats apples.'\n",
    "'ALICE THROWS FOOTBALLS.'\n",
    "'Carol eats 7 cats.''')\n",
    "Test result: [('Alice', 'eats', 'apples'), ('Bob', 'pets', 'cats'), ('Carol', 'throws', 'baseballs'), ('Alice', 'throws', 'Apples'), ('BOB', 'EATS', 'CATS')"
   ]
  }
 ],
 "metadata": {
  "kernelspec": {
   "display_name": "Python 3 (ipykernel)",
   "language": "python",
   "name": "python3"
  },
  "language_info": {
   "codemirror_mode": {
    "name": "ipython",
    "version": 3
   },
   "file_extension": ".py",
   "mimetype": "text/x-python",
   "name": "python",
   "nbconvert_exporter": "python",
   "pygments_lexer": "ipython3",
   "version": "3.9.12"
  }
 },
 "nbformat": 4,
 "nbformat_minor": 5
}
