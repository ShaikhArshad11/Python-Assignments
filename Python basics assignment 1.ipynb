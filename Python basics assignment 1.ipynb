{
 "cells": [
  {
   "cell_type": "raw",
   "id": "c5ea143d-e368-4b8e-997d-b2d28e35938c",
   "metadata": {},
   "source": [
    "1. In the below elements which of them are values or an expression? eg:- values can be\n",
    "integer or string and expressions will be mathematical operators.\n",
    "*\n",
    "'hello'\n",
    "-87.8\n",
    "-\n",
    "/\n",
    "+\n",
    "6\n",
    "\n",
    "ans :Values = 'hello' , -87.8 , 6 .\n",
    "     Expressions = - , / , + ."
   ]
  },
  {
   "cell_type": "raw",
   "id": "0296aeba-4b90-4117-830d-7c9a8828df3b",
   "metadata": {},
   "source": [
    "2. What is the difference between string and variable?\n",
    "ans: Variables can be reffered to as empty box in which you can store different types of data and value.\n",
    "    Strings are data so we can use them to fill up a variable."
   ]
  },
  {
   "cell_type": "raw",
   "id": "9391adbe-46c6-42da-b538-233137dbd34a",
   "metadata": {},
   "source": [
    "3. Describe three different data types.\n",
    "ans : Integers . examples: 2,5,48\n",
    "      Strings . example: arshad, hello123\n",
    "      Floats (numbers with decimal point) . example: 65.5, 55.3"
   ]
  },
  {
   "cell_type": "raw",
   "id": "ba6e680d-f531-4d5b-a01f-50e24fa2f4cc",
   "metadata": {},
   "source": [
    "4. What is an expression made up of? What do all expressions do?\n",
    "ans :An expression is a combination of operators and operands like a+b-5, is an expression. It is basically a representation of values."
   ]
  },
  {
   "cell_type": "raw",
   "id": "aeac2961-8fd0-44e6-bcb3-0bc5943ea18b",
   "metadata": {},
   "source": [
    "5. This assignment statements, like spam = 10. What is the difference between an\n",
    "expression and a statement?\n",
    "ans :Expression is a combination of operators and operands which forms up a value and returns output when executed.\n",
    "     Statements is an instruction which does not return anything when executed . example: spam = 10"
   ]
  },
  {
   "cell_type": "code",
   "execution_count": 7,
   "id": "e8f0a5fb-9b9c-494a-bd2f-ccf486c78d09",
   "metadata": {},
   "outputs": [
    {
     "data": {
      "text/plain": [
       "23"
      ]
     },
     "execution_count": 7,
     "metadata": {},
     "output_type": "execute_result"
    }
   ],
   "source": [
    "# 6. After running the following code, what does the variable bacon contain?\n",
    "# bacon = 22\n",
    "# bacon + 1\n",
    "\n",
    "bacon = 22\n",
    "bacon + 1"
   ]
  },
  {
   "cell_type": "raw",
   "id": "74f325ad-3601-4235-89c5-ba66c3a9802b",
   "metadata": {
    "tags": []
   },
   "source": [
    "# 7. What should the values of the following two terms be?\n",
    "# 'spam' + 'spamspam'\n",
    "# 'spam' * 3\n"
   ]
  },
  {
   "cell_type": "code",
   "execution_count": 12,
   "id": "da6ef97b-1b38-408b-b125-65455e58f1f2",
   "metadata": {},
   "outputs": [
    {
     "data": {
      "text/plain": [
       "'spamspamspam'"
      ]
     },
     "execution_count": 12,
     "metadata": {},
     "output_type": "execute_result"
    }
   ],
   "source": [
    "'spam' * 3"
   ]
  },
  {
   "cell_type": "code",
   "execution_count": 13,
   "id": "a9a40fbc-2a1f-4872-8d3c-9a610045aa2f",
   "metadata": {},
   "outputs": [
    {
     "data": {
      "text/plain": [
       "'spamspamspam'"
      ]
     },
     "execution_count": 13,
     "metadata": {},
     "output_type": "execute_result"
    }
   ],
   "source": [
    "'spam' + 'spamspam'"
   ]
  },
  {
   "cell_type": "raw",
   "id": "a7d7e498-913b-4d22-bd6c-9710387708b6",
   "metadata": {},
   "source": [
    "8. Why is eggs a valid variable name while 100 is invalid?\n",
    "ans : Variables in python can only start with a letter(a=100) or the underscore character(_a=100).\n",
    "     Variable declaration cannot start with a number hence 100 will be invalid and eggs will be a valid variable name."
   ]
  },
  {
   "cell_type": "raw",
   "id": "5531580a-c34e-4a6c-9caa-d9d2b0374ee3",
   "metadata": {},
   "source": [
    "9. What three functions can be used to get the integer, floating-point number, or string version of a value?\n",
    "ans : For integer we use int().\n",
    "        For floating-point number we use float().\n",
    "        For string we use str()."
   ]
  },
  {
   "cell_type": "markdown",
   "id": "dc1e9d4b-22fb-4bc2-a517-c1a533377794",
   "metadata": {},
   "source": [
    "10. Why does this expression cause an error? How can you fix it?\n",
    "    'I have eaten'+ 99 + 'burritos'"
   ]
  },
  {
   "cell_type": "code",
   "execution_count": 16,
   "id": "c740f387-fe59-4c0b-b45c-46e7849b2439",
   "metadata": {},
   "outputs": [
    {
     "ename": "TypeError",
     "evalue": "can only concatenate str (not \"int\") to str",
     "output_type": "error",
     "traceback": [
      "\u001b[0;31m---------------------------------------------------------------------------\u001b[0m",
      "\u001b[0;31mTypeError\u001b[0m                                 Traceback (most recent call last)",
      "Input \u001b[0;32mIn [16]\u001b[0m, in \u001b[0;36m<cell line: 1>\u001b[0;34m()\u001b[0m\n\u001b[0;32m----> 1\u001b[0m \u001b[38;5;124;43m'\u001b[39;49m\u001b[38;5;124;43mi have eaten\u001b[39;49m\u001b[38;5;124;43m'\u001b[39;49m\u001b[38;5;241;43m+\u001b[39;49m\u001b[43m \u001b[49m\u001b[38;5;241;43m99\u001b[39;49m \u001b[38;5;241m+\u001b[39m\u001b[38;5;124m'\u001b[39m\u001b[38;5;124mburritos\u001b[39m\u001b[38;5;124m'\u001b[39m\n",
      "\u001b[0;31mTypeError\u001b[0m: can only concatenate str (not \"int\") to str"
     ]
    }
   ],
   "source": [
    "'i have eaten'+ 99 +'burritos'\n",
    "# it causes error we cannot concatenate string with an integer so to fix this we need to convert integer (99) to string"
   ]
  },
  {
   "cell_type": "code",
   "execution_count": 19,
   "id": "96c32c6a-30ab-4773-9737-065f6447ebf8",
   "metadata": {},
   "outputs": [
    {
     "data": {
      "text/plain": [
       "'I have eaten 99 burritos'"
      ]
     },
     "execution_count": 19,
     "metadata": {},
     "output_type": "execute_result"
    }
   ],
   "source": [
    "'I have eaten' + str(' 99 ') + 'burritos'"
   ]
  },
  {
   "cell_type": "code",
   "execution_count": null,
   "id": "10b7ea75-7782-4475-ac7f-7498500515b2",
   "metadata": {},
   "outputs": [],
   "source": []
  }
 ],
 "metadata": {
  "kernelspec": {
   "display_name": "Python 3 (ipykernel)",
   "language": "python",
   "name": "python3"
  },
  "language_info": {
   "codemirror_mode": {
    "name": "ipython",
    "version": 3
   },
   "file_extension": ".py",
   "mimetype": "text/x-python",
   "name": "python",
   "nbconvert_exporter": "python",
   "pygments_lexer": "ipython3",
   "version": "3.9.12"
  }
 },
 "nbformat": 4,
 "nbformat_minor": 5
}
