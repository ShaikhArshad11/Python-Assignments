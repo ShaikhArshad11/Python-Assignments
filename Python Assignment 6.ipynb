{
 "cells": [
  {
   "cell_type": "raw",
   "id": "cf148b15-1c5c-4331-880f-38cbcd6629ff",
   "metadata": {},
   "source": [
    "1. What are escape characters, and how do you use them?\n",
    "ans: Escape character are used to insert characters that are illegal in a string. An escape character can be used by \n",
    "backslah \\ followed by a character you want to insert ."
   ]
  },
  {
   "cell_type": "raw",
   "id": "ec4c469a-6caf-486d-ad1b-a0e0b901ae3c",
   "metadata": {},
   "source": [
    "2. What do the escape characters n and t stand for?\n",
    "ans: Escape character \\n is used to go on a new line and \\t is used for tab ."
   ]
  },
  {
   "cell_type": "raw",
   "id": "3ae4a83c-829c-4a76-b08e-2f87d49cee30",
   "metadata": {},
   "source": [
    "3. What is the way to include backslash characters in a string?\n",
    "ans: To include backslah character in a string we use \"\\\\\" which basically gives \\ ."
   ]
  },
  {
   "cell_type": "raw",
   "id": "0b673d23-54f6-45fc-bf56-cba39c2d6915",
   "metadata": {},
   "source": [
    "4. The string \"Howl's Moving Castle\" is a correct value. Why isn't the single quote character in the\n",
    "word Howl's not escaped a problem?\n",
    "ans: The single quote character in the word Howl's not escaped because we have used double quotes at the begining and end of the string ."
   ]
  },
  {
   "cell_type": "raw",
   "id": "f6171ff4-7050-4e64-8a58-ce1431344e86",
   "metadata": {},
   "source": [
    "5. How do you write a string of newlines if you don't want to use the n character?\n",
    "ans: We can simply use this type of syntax :\n",
    "    print(\"Hello World \")\n",
    "    print(\"My name is Tom\")"
   ]
  },
  {
   "cell_type": "code",
   "execution_count": 8,
   "id": "be9dd432-a1a8-410d-89b1-9c68b96922e6",
   "metadata": {},
   "outputs": [
    {
     "data": {
      "text/plain": [
       "'e'"
      ]
     },
     "execution_count": 8,
     "metadata": {},
     "output_type": "execute_result"
    }
   ],
   "source": [
    "#6. What are the values of the given expressions?\n",
    "'Hello, world!'[1] # here it will give the the value of the 1st positive in the string"
   ]
  },
  {
   "cell_type": "code",
   "execution_count": 9,
   "id": "0ce69bb5-bff9-490b-ba2f-cbe2bb3342fa",
   "metadata": {},
   "outputs": [
    {
     "data": {
      "text/plain": [
       "'Hello'"
      ]
     },
     "execution_count": 9,
     "metadata": {},
     "output_type": "execute_result"
    }
   ],
   "source": [
    "'Hello, world!'[0:5] # here it will give the value from 0-4th position from the string"
   ]
  },
  {
   "cell_type": "code",
   "execution_count": 10,
   "id": "b6d06520-0147-44c7-9779-ad7ccdbfd4a9",
   "metadata": {},
   "outputs": [
    {
     "data": {
      "text/plain": [
       "'Hello'"
      ]
     },
     "execution_count": 10,
     "metadata": {},
     "output_type": "execute_result"
    }
   ],
   "source": [
    "'Hello, world!'[:5] # here by default it will start from 0th position and give the values till 4th position excluding 5th position"
   ]
  },
  {
   "cell_type": "code",
   "execution_count": 11,
   "id": "735f4c24-326b-4e1d-8a70-bc16ae02401c",
   "metadata": {},
   "outputs": [
    {
     "data": {
      "text/plain": [
       "'lo, world!'"
      ]
     },
     "execution_count": 11,
     "metadata": {},
     "output_type": "execute_result"
    }
   ],
   "source": [
    "'Hello, world!'[3:] # here it will start from the 3rd position and by default it will go till the position of the last element "
   ]
  },
  {
   "cell_type": "code",
   "execution_count": 13,
   "id": "1296e349-bdf7-40a5-956a-d94baac59859",
   "metadata": {},
   "outputs": [
    {
     "data": {
      "text/plain": [
       "'HELLO'"
      ]
     },
     "execution_count": 13,
     "metadata": {},
     "output_type": "execute_result"
    }
   ],
   "source": [
    "# 7. What are the values of the following expressions?\n",
    "'Hello'.upper() # it is a function which is used to covert a string value to upper case"
   ]
  },
  {
   "cell_type": "code",
   "execution_count": 14,
   "id": "7921065e-13a9-4ad9-959b-a0ef3c12fb08",
   "metadata": {},
   "outputs": [
    {
     "data": {
      "text/plain": [
       "True"
      ]
     },
     "execution_count": 14,
     "metadata": {},
     "output_type": "execute_result"
    }
   ],
   "source": [
    "'Hello'.upper().isupper() # it is a function which will covert string to upper case and check that it is upper case or not and return a boolean value."
   ]
  },
  {
   "cell_type": "code",
   "execution_count": 15,
   "id": "5bdc4fd6-0603-4fac-957c-139559515243",
   "metadata": {},
   "outputs": [
    {
     "data": {
      "text/plain": [
       "'hello'"
      ]
     },
     "execution_count": 15,
     "metadata": {},
     "output_type": "execute_result"
    }
   ],
   "source": [
    "'Hello'.upper().lower() # it will first cover the string to upper case then lower case"
   ]
  },
  {
   "cell_type": "code",
   "execution_count": 17,
   "id": "f3583046-5361-4d75-b671-6c8525a4cfff",
   "metadata": {},
   "outputs": [
    {
     "data": {
      "text/plain": [
       "['Remember,', 'remember,', 'the', 'fifth', 'of', 'July.']"
      ]
     },
     "execution_count": 17,
     "metadata": {},
     "output_type": "execute_result"
    }
   ],
   "source": [
    "# 8. What are the values of the following expressions?\n",
    "'Remember, remember, the fifth of July.'.split()\n",
    "## split() function will split the the given sentence word by word and enclose it inside a list."
   ]
  },
  {
   "cell_type": "code",
   "execution_count": 20,
   "id": "97265b05-2203-495e-b26d-2ab9e5df88d7",
   "metadata": {},
   "outputs": [
    {
     "data": {
      "text/plain": [
       "'There-can-only-one.'"
      ]
     },
     "execution_count": 20,
     "metadata": {},
     "output_type": "execute_result"
    }
   ],
   "source": [
    "'-'.join('There can only one.'.split())\n",
    "# it will join - hyphen after every word in the givenm sentence ."
   ]
  },
  {
   "cell_type": "raw",
   "id": "16d53283-dd15-4fd8-acd2-71b89ef77232",
   "metadata": {},
   "source": [
    "9. What are the methods for right-justifying, left-justifying, and centering a string?\n",
    "ans: For  right-justifying we use rjust( len, fillchr ).\n",
    "     For left-justifying we use ljust(len,fillchar)\n",
    "     For centering we use centre(len,fillchar)"
   ]
  },
  {
   "cell_type": "code",
   "execution_count": 30,
   "id": "480ba34a-3ef1-4317-af0b-0526bc09cc3d",
   "metadata": {},
   "outputs": [
    {
     "name": "stdout",
     "output_type": "stream",
     "text": [
      "Centering : **********************Arshad**********************\n",
      "Left-justifying : My name is Arshad#################################\n",
      "Right-justifying : #################################My name is Arshad\n"
     ]
    }
   ],
   "source": [
    "c = \"My name is Arshad\"\n",
    "print(\"Centering :\", a.center(50,'*'))\n",
    "\n",
    "l = \"My name is Arshad\"\n",
    "print(\"Left-justifying :\", l.ljust(50,'#'))\n",
    "\n",
    "r =  \"My name is Arshad\"\n",
    "print(\"Right-justifying :\", r.rjust(50,'#'))"
   ]
  },
  {
   "cell_type": "raw",
   "id": "cbb9fc57-3b20-4cec-81f7-dcf0769beeb0",
   "metadata": {},
   "source": [
    "10. What is the best way to remove whitespace characters from the start or end?\n",
    "ans: trim() function used to remove all the whitespaces characters from the start to the end."
   ]
  }
 ],
 "metadata": {
  "kernelspec": {
   "display_name": "Python 3 (ipykernel)",
   "language": "python",
   "name": "python3"
  },
  "language_info": {
   "codemirror_mode": {
    "name": "ipython",
    "version": 3
   },
   "file_extension": ".py",
   "mimetype": "text/x-python",
   "name": "python",
   "nbconvert_exporter": "python",
   "pygments_lexer": "ipython3",
   "version": "3.9.12"
  }
 },
 "nbformat": 4,
 "nbformat_minor": 5
}
