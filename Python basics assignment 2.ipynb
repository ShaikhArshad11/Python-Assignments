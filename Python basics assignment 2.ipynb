{
 "cells": [
  {
   "cell_type": "raw",
   "id": "89146582-6007-4583-8318-49d190fff614",
   "metadata": {},
   "source": [
    "1.What are the two values of the Boolean data type? How do you write them?\n",
    "ans : The two values of boolean data types are :-\n",
    "     1.) True\n",
    "     2.) False"
   ]
  },
  {
   "cell_type": "code",
   "execution_count": 8,
   "id": "cd129c85-2bb6-408a-92c6-5a9c061ea2d1",
   "metadata": {},
   "outputs": [
    {
     "data": {
      "text/plain": [
       "bool"
      ]
     },
     "execution_count": 8,
     "metadata": {},
     "output_type": "execute_result"
    }
   ],
   "source": [
    "a = True\n",
    "type(a)"
   ]
  },
  {
   "cell_type": "raw",
   "id": "afbaa6db-d8f0-49f9-887a-5672b35386e1",
   "metadata": {},
   "source": [
    "2. What are the three different types of Boolean operators?\n",
    "ans : The three different types of boolean operators are : and , or & not ."
   ]
  },
  {
   "cell_type": "raw",
   "id": "5a240985-cfbb-4772-88c0-1f0cd256de72",
   "metadata": {},
   "source": [
    "3. Make a list of each Boolean operator's truth tables (i.e. every possible combination of Boolean\n",
    "values for the operator and what it evaluate ).\n",
    "ans : Boolean operators:\n",
    "      AND \n",
    "      OR \n",
    "      NOT"
   ]
  },
  {
   "cell_type": "code",
   "execution_count": 24,
   "id": "eb7b1a8e-b690-4c9a-9919-de5cdefe0249",
   "metadata": {},
   "outputs": [
    {
     "name": "stdout",
     "output_type": "stream",
     "text": [
      "False\n",
      "False\n",
      "True\n",
      "False\n",
      "True\n",
      "True\n",
      "True\n",
      "False\n",
      "True\n"
     ]
    }
   ],
   "source": [
    "print(True and False)\n",
    "print(False and True)\n",
    "print(True and True)\n",
    "print(False and False)\n",
    "print(True or False)\n",
    "print(False or True)\n",
    "print(True or True)\n",
    "print(False or False)"
   ]
  },
  {
   "cell_type": "code",
   "execution_count": 10,
   "id": "13fb1c42-be31-4b1c-b46d-2d1f0ac499ef",
   "metadata": {},
   "outputs": [
    {
     "data": {
      "text/plain": [
       "True"
      ]
     },
     "execution_count": 10,
     "metadata": {},
     "output_type": "execute_result"
    }
   ],
   "source": [
    "# 4. What are the values of the following expressions?\n",
    "(5>4) and (3==5)"
   ]
  },
  {
   "cell_type": "code",
   "execution_count": 4,
   "id": "f57ca453-3eec-4118-831f-6264444d2664",
   "metadata": {},
   "outputs": [
    {
     "data": {
      "text/plain": [
       "False"
      ]
     },
     "execution_count": 4,
     "metadata": {},
     "output_type": "execute_result"
    }
   ],
   "source": [
    "not (5 > 4)"
   ]
  },
  {
   "cell_type": "code",
   "execution_count": 5,
   "id": "158f8880-4e5f-43be-8bd7-47a0605df2c8",
   "metadata": {},
   "outputs": [
    {
     "data": {
      "text/plain": [
       "True"
      ]
     },
     "execution_count": 5,
     "metadata": {},
     "output_type": "execute_result"
    }
   ],
   "source": [
    "(5>4) or (3==5)"
   ]
  },
  {
   "cell_type": "code",
   "execution_count": 6,
   "id": "fb492138-7ff1-4e05-8b81-5a3529f835bc",
   "metadata": {},
   "outputs": [
    {
     "data": {
      "text/plain": [
       "False"
      ]
     },
     "execution_count": 6,
     "metadata": {},
     "output_type": "execute_result"
    }
   ],
   "source": [
    "not ((5>4) or (3==5))"
   ]
  },
  {
   "cell_type": "code",
   "execution_count": 7,
   "id": "a4abded6-ad0e-47ac-9619-e227c16c7d9d",
   "metadata": {},
   "outputs": [
    {
     "data": {
      "text/plain": [
       "False"
      ]
     },
     "execution_count": 7,
     "metadata": {},
     "output_type": "execute_result"
    }
   ],
   "source": [
    "(True and True) and (True == False)"
   ]
  },
  {
   "cell_type": "code",
   "execution_count": 8,
   "id": "7937a20c-3c9d-41af-884b-353464151dc4",
   "metadata": {},
   "outputs": [
    {
     "data": {
      "text/plain": [
       "True"
      ]
     },
     "execution_count": 8,
     "metadata": {},
     "output_type": "execute_result"
    }
   ],
   "source": [
    "(not False) or (not True)"
   ]
  },
  {
   "cell_type": "raw",
   "id": "25a838eb-0feb-4737-a9d5-026dcc2b6765",
   "metadata": {},
   "source": [
    "5. What are the six comparison operators?\n",
    "ans : Six comparison operators are:\n",
    "      x==y : x is equal to y.\n",
    "      x<=y : x is less than equal to y.\n",
    "      x<y  : x is less than y.\n",
    "      x>=y : x is greater than equal to y.\n",
    "      x>y  : x is greater than y.\n",
    "      x!=y : x is not equal to y."
   ]
  },
  {
   "cell_type": "raw",
   "id": "6f01500d-db61-4447-8914-3d665abf4d71",
   "metadata": {},
   "source": [
    "6. How do you tell the difference between the equal to and assignment operators? Describe a\n",
    "condition and when you would use one.\n",
    "ans : Is equal to (==) is used when we have to give the condition.\n",
    "      Example : a=5\n",
    "                b=4\n",
    "                a==b (which gives False)\n",
    "      In assignment operators equal to (=) is given to the right hand side operand to assign the variable.\n",
    "      example: Arshad = 1234\n",
    "                "
   ]
  },
  {
   "cell_type": "raw",
   "id": "cc7bcf86-4599-408e-9fa0-6e726532e473",
   "metadata": {},
   "source": [
    "7. Identify the three blocks in this code: \n",
    "spam = 0\n",
    "if spam == 10:\n",
    "print('eggs')\n",
    "if spam > 5:\n",
    "print('bacon')\n",
    "else:\n",
    "print('ham')\n",
    "print('spam')\n",
    "print('spam')"
   ]
  },
  {
   "cell_type": "raw",
   "id": "f531ca53-b16f-4edb-80b6-6265b55a68ed",
   "metadata": {},
   "source": [
    "1. Indentation is required after if and else statement.\n",
    "2. In the second condition elif statement is required.\n",
    "3. We need to use print only once after the else statement."
   ]
  },
  {
   "cell_type": "raw",
   "id": "61af0479-1349-42ac-9267-265cfc422515",
   "metadata": {},
   "source": [
    "8. Write code that prints Hello if 1 is stored in spam, prints Howdy if 2 is stored in spam, and prints\n",
    "Greetings! if anything else is stored in spam."
   ]
  },
  {
   "cell_type": "code",
   "execution_count": 14,
   "id": "2c5b52a3-a071-4d3d-b1fb-4917242fdaf3",
   "metadata": {},
   "outputs": [
    {
     "name": "stdin",
     "output_type": "stream",
     "text": [
      "Enter the number : 8\n"
     ]
    },
    {
     "name": "stdout",
     "output_type": "stream",
     "text": [
      "Greetings!\n"
     ]
    }
   ],
   "source": [
    "spam = int(input(\"Enter the number :\"))\n",
    "if spam == 1:\n",
    "    print(\"Hello\")\n",
    "elif spam == 2:\n",
    "    print(\"Howdy\")\n",
    "else:\n",
    "    print(\"Greetings!\")"
   ]
  },
  {
   "cell_type": "code",
   "execution_count": null,
   "id": "7f1b4776-92ee-49b7-8908-a4479d73d577",
   "metadata": {},
   "outputs": [],
   "source": []
  }
 ],
 "metadata": {
  "kernelspec": {
   "display_name": "Python 3 (ipykernel)",
   "language": "python",
   "name": "python3"
  },
  "language_info": {
   "codemirror_mode": {
    "name": "ipython",
    "version": 3
   },
   "file_extension": ".py",
   "mimetype": "text/x-python",
   "name": "python",
   "nbconvert_exporter": "python",
   "pygments_lexer": "ipython3",
   "version": "3.9.12"
  }
 },
 "nbformat": 4,
 "nbformat_minor": 5
}
