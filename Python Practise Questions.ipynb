{
 "cells": [
  {
   "cell_type": "code",
   "execution_count": 3,
   "id": "b5b88f60-50c5-4057-9757-c47884168150",
   "metadata": {},
   "outputs": [],
   "source": [
    "def task1(a):\n",
    "    \"\"\"function to take list as an input and return the concatenation of all the elements in the list\"\"\"\n",
    "    l=[]\n",
    "    for i in a :\n",
    "        if type(i)==int:\n",
    "            s=sum(a)\n",
    "            l.append(s)\n",
    "        return l"
   ]
  },
  {
   "cell_type": "code",
   "execution_count": 5,
   "id": "d9f629de-061a-419e-8cb4-026b06bfddff",
   "metadata": {},
   "outputs": [
    {
     "data": {
      "text/plain": [
       "[110]"
      ]
     },
     "execution_count": 5,
     "metadata": {},
     "output_type": "execute_result"
    }
   ],
   "source": [
    "l=[1,2,3,4,100]\n",
    "task1(l)"
   ]
  },
  {
   "cell_type": "code",
   "execution_count": 27,
   "id": "9cb81162-c6d2-400b-8e8a-5a0e73c38ffc",
   "metadata": {},
   "outputs": [],
   "source": [
    "def datetime(a):\n",
    "    \"\"\"It is function to print current date and time\"\"\"\n",
    "    import datetime\n",
    "    l=[]\n",
    "    a= datetime.datetime.now()\n",
    "    print(\"current date and time :\")\n",
    "    print(a.strftime(\"%Y-%m-%d:%H-%M-%S\"))\n",
    "    l.append(a)"
   ]
  },
  {
   "cell_type": "code",
   "execution_count": 28,
   "id": "49a54641-7751-4306-a7c7-77c24fc8ac17",
   "metadata": {},
   "outputs": [
    {
     "name": "stdout",
     "output_type": "stream",
     "text": [
      "current date and time :\n",
      "2022-09-28:06-30-37\n"
     ]
    }
   ],
   "source": [
    "datetime(l)"
   ]
  },
  {
   "cell_type": "code",
   "execution_count": 12,
   "id": "d25e005b-ec01-4737-9348-0b49fa1a54ba",
   "metadata": {},
   "outputs": [
    {
     "name": "stdin",
     "output_type": "stream",
     "text": [
      "Do you wish to shutdown you laptop ? (Yes/No): No\n"
     ]
    }
   ],
   "source": [
    "\"\"\"This code will shutdown your PC/Laptop\"\"\" \n",
    "import os\n",
    "shutdown = input(\"Do you wish to shutdown you laptop ? (Yes/No):\")\n",
    "\n",
    "if shutdown == 'No':\n",
    "    exit()\n",
    "else:\n",
    "    os.system(\"shutdown /s /t 1\")"
   ]
  },
  {
   "cell_type": "code",
   "execution_count": 7,
   "id": "88238da5-7480-4de4-8d44-df2dfdee16f5",
   "metadata": {},
   "outputs": [
    {
     "data": {
      "text/plain": [
       "6"
      ]
     },
     "execution_count": 7,
     "metadata": {},
     "output_type": "execute_result"
    }
   ],
   "source": [
    "def task2(s):\n",
    "    \"\"\"this function returns the length of the given string without using len() function\"\"\"\n",
    "    if type(s)==str:\n",
    "        count=0\n",
    "        for i in s:\n",
    "            count=count+1\n",
    "        return count\n",
    "    \n",
    "task2(\"arshad\")"
   ]
  },
  {
   "cell_type": "code",
   "execution_count": 23,
   "id": "1c47d1bf-2383-44b0-8eb8-aee4a35fbbe1",
   "metadata": {},
   "outputs": [
    {
     "name": "stdout",
     "output_type": "stream",
     "text": [
      "Index of 1 is 0\n",
      "Index of 2 is 1\n",
      "Index of 5 is 2\n",
      "Index of hello is 3\n"
     ]
    }
   ],
   "source": [
    "def task3(l):\n",
    "    \"\"\"This function will return the index of all premitive elements you pass\"\"\"\n",
    "    if type(l)==tuple or type(l)==list or type(l)==str:\n",
    "        for i in range(len(l)):\n",
    "            print(f\"Index of {l[i]} is {i}\")\n",
    "            \n",
    "task3([1,2,5,\"hello\"])"
   ]
  },
  {
   "cell_type": "code",
   "execution_count": 2,
   "id": "7512093f-9b57-45f7-9fb0-11b64fdca89e",
   "metadata": {},
   "outputs": [
    {
     "data": {
      "text/plain": [
       "[0, 1, 2, 3, 4, 5]"
      ]
     },
     "execution_count": 2,
     "metadata": {},
     "output_type": "execute_result"
    }
   ],
   "source": [
    "def task4a(n):\n",
    "    \"\"\"This function generates n range of numbers\"\"\"\n",
    "    return list(range(n))\n",
    "def task4(a):\n",
    "    \"\"\"This function takes another function as input and givesthe list of numbers as output\"\"\"\n",
    "    if type(a)==list:\n",
    "        l = []\n",
    "        for i in a:\n",
    "            l.append(i)\n",
    "        return l\n",
    "task4(task4a(6))"
   ]
  },
  {
   "cell_type": "code",
   "execution_count": 3,
   "id": "0fd2420c-2223-4fcd-988d-70905160f99a",
   "metadata": {},
   "outputs": [
    {
     "data": {
      "text/plain": [
       "[5, 6, 8, 7, 'arshad', 'shaikh']"
      ]
     },
     "execution_count": 3,
     "metadata": {},
     "output_type": "execute_result"
    }
   ],
   "source": [
    "def task5(*args):\n",
    "    \"\"\"This function takes n numbers of lists as an input and gives concatenation of all the list elements\"\"\"\n",
    "    l=[]\n",
    "    for i in args:\n",
    "        if type(i)==list:\n",
    "            l=l+i\n",
    "    return l\n",
    "    \n",
    "task5(1,2,3,4,\"arshad\",[5,6,8,7],{8,6,8,7,8},[\"arshad\",\"shaikh\"])"
   ]
  },
  {
   "cell_type": "code",
   "execution_count": 1,
   "id": "7c3d4735-0e69-47b5-a13f-a030b848c9ec",
   "metadata": {},
   "outputs": [],
   "source": [
    "def task6(n):\n",
    "    \"\"\"This function will return if the input (String) is Palindrome or not\"\"\"\n",
    "    n= input(\"Enter the string :\")\n",
    "    n= n.lower()\n",
    "    b= n[::-1]\n",
    "    if n==b:\n",
    "        return \"It is a Palindrome\"\n",
    "    else:\n",
    "        return \"It is not a Palindrome\""
   ]
  },
  {
   "cell_type": "code",
   "execution_count": 2,
   "id": "89e8421e-7d7f-4f64-8173-6c1ccb82e472",
   "metadata": {},
   "outputs": [
    {
     "name": "stdin",
     "output_type": "stream",
     "text": [
      "Enter the string : Civic\n"
     ]
    },
    {
     "data": {
      "text/plain": [
       "'It is a Palindrome'"
      ]
     },
     "execution_count": 2,
     "metadata": {},
     "output_type": "execute_result"
    }
   ],
   "source": [
    "task6(\"n\")"
   ]
  },
  {
   "cell_type": "code",
   "execution_count": 22,
   "id": "b0eea2b4-d2fb-4267-9968-7975c5187485",
   "metadata": {},
   "outputs": [
    {
     "data": {
      "text/plain": [
       "[1, 1, 2, 3, 5, 8, 13, 21, 34, 55]"
      ]
     },
     "execution_count": 22,
     "metadata": {},
     "output_type": "execute_result"
    }
   ],
   "source": [
    "def task7(n):\n",
    "    \"\"\"This functiom will give the Fibonacci sequence\"\"\"\n",
    "    a = 1\n",
    "    b = 1\n",
    "    output = []\n",
    "    for i in range(n):\n",
    "        output.append(a)\n",
    "        a , b =  b , a+b\n",
    "    return output\n",
    "\n",
    "task7(10)"
   ]
  },
  {
   "cell_type": "code",
   "execution_count": 28,
   "id": "d0203075-598d-41c4-ac32-2a302723c00b",
   "metadata": {},
   "outputs": [],
   "source": [
    "def task8(path):\n",
    "    \"\"\"This function takes the directory path string as input and returns all the file name from given directory\"\"\"\n",
    "    import os\n",
    "    return os.listdir(path)"
   ]
  },
  {
   "cell_type": "code",
   "execution_count": 29,
   "id": "364251de-fdb0-4487-8f77-95eca243dc4a",
   "metadata": {},
   "outputs": [
    {
     "data": {
      "text/plain": [
       "uname_result(system='Linux', node='09f03116b274', release='5.15.0-1019-aws', version='#23~20.04.1-Ubuntu SMP Thu Aug 18 03:20:14 UTC 2022', machine='x86_64')"
      ]
     },
     "execution_count": 29,
     "metadata": {},
     "output_type": "execute_result"
    }
   ],
   "source": [
    "def task9():\n",
    "    \"\"\"This function will be able to showyour system configuration\"\"\"\n",
    "    import platform as pl\n",
    "    return pl.uname()\n",
    "task9()"
   ]
  },
  {
   "cell_type": "code",
   "execution_count": null,
   "id": "4f8a29fe-83ab-427d-96fd-8b761782b493",
   "metadata": {},
   "outputs": [],
   "source": [
    "def task10(filename):\n",
    "    \"\"\"This function will be able to read a image file and dispaly it\"\"\"\n",
    "    import PIL\n",
    "    from PIL import Image\n",
    "    img=Image.open(filename,'r')\n",
    "    return display(img)\n",
    "file_name=input(\"Please enter the png file name along with .png extension :\")\n",
    "task10(file_name)"
   ]
  },
  {
   "cell_type": "code",
   "execution_count": null,
   "id": "78d5ae4c-2f6f-4136-8c94-77c07e4de54d",
   "metadata": {},
   "outputs": [],
   "source": [
    "def task11(src_path,dst_path):\n",
    "    \"\"\"This function will move a file from one directory to another directory\"\"\"\n",
    "    import shutil\n",
    "    shutil.move(src_path,dst_path)\n",
    "    \n",
    "src_path=input(\"Please enter the source directory path :\")\n",
    "dst_path=input(\"Please enter the destination directory path :\")\n",
    "\n",
    "task11(src_path,dst_path)"
   ]
  },
  {
   "cell_type": "code",
   "execution_count": 17,
   "id": "09e56e41-a087-45dc-a117-0b53d29a13c5",
   "metadata": {
    "tags": []
   },
   "outputs": [
    {
     "name": "stdin",
     "output_type": "stream",
     "text": [
      "Please enter the word filename without the extension : test1\n"
     ]
    },
    {
     "name": "stdout",
     "output_type": "stream",
     "text": [
      "Hello Arshadthis ismy first line this is my secong lunethis is my third libe\n"
     ]
    }
   ],
   "source": [
    "def task12(filename):\n",
    "    \"\"\"This function will read a complete word file\"\"\"\n",
    "    f=open(filename+\".txt\",'r')\n",
    "    print(f.read())\n",
    "    \n",
    "filename=input(\"Please enter the word filename without the extension :\")\n",
    "\n",
    "task12(filename)"
   ]
  },
  {
   "cell_type": "code",
   "execution_count": null,
   "id": "4005a930-a22e-41a0-a516-e9bcaf00ba2c",
   "metadata": {},
   "outputs": [],
   "source": []
  },
  {
   "cell_type": "code",
   "execution_count": null,
   "id": "5b1ccbd5-eb12-4717-abb7-647ef8fd7a3c",
   "metadata": {},
   "outputs": [],
   "source": []
  }
 ],
 "metadata": {
  "kernelspec": {
   "display_name": "Python 3 (ipykernel)",
   "language": "python",
   "name": "python3"
  },
  "language_info": {
   "codemirror_mode": {
    "name": "ipython",
    "version": 3
   },
   "file_extension": ".py",
   "mimetype": "text/x-python",
   "name": "python",
   "nbconvert_exporter": "python",
   "pygments_lexer": "ipython3",
   "version": "3.9.12"
  }
 },
 "nbformat": 4,
 "nbformat_minor": 5
}
