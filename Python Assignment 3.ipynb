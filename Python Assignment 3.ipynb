{
 "cells": [
  {
   "cell_type": "raw",
   "id": "f367ee7e-9c61-4b4e-ad32-62895ef9ce43",
   "metadata": {},
   "source": [
    "1. Why are functions advantageous to have in your programs?\n",
    "ans: By using functions in Python we can avoid repetition of program which results in less time consumption of the user.\n",
    "     It also reduces the size of the executable code . We can alsouse functions inside a function."
   ]
  },
  {
   "cell_type": "raw",
   "id": "457cd28c-ee8c-45d3-a007-da7510c3e6b1",
   "metadata": {},
   "source": [
    "2. When does the code in a function run: when it's specified or when it's called?\n",
    "ans: The code in a function rins when it's called . "
   ]
  },
  {
   "cell_type": "raw",
   "id": "55d36cd6-742e-4996-b8c8-50943cea9222",
   "metadata": {},
   "source": [
    "3. What statement creates a function?\n",
    "ans: Using the def keyword we can create a function in Python .\n",
    "     example: def ispalindrome():"
   ]
  },
  {
   "cell_type": "raw",
   "id": "3a2163f9-2400-4168-95d7-f037967e7947",
   "metadata": {},
   "source": [
    "4. What is the difference between a function and a function call?\n",
    "ans: A function is a block of code that does an operation and returns a result.\n",
    "     A function call is a code used to pass control to a function . [eg : def add(a,b):]"
   ]
  },
  {
   "cell_type": "raw",
   "id": "d15fcbbd-e176-48aa-a20d-66739b654b14",
   "metadata": {},
   "source": [
    "5. How many global scopes are there in a Python program? How many local scopes?\n",
    "ans: There is only one global scope per program in Python."
   ]
  },
  {
   "cell_type": "raw",
   "id": "7cb9af26-dc5f-420f-be41-2fa87a7674fc",
   "metadata": {},
   "source": [
    "6. What happens to variables in a local scope when the function call returns?\n",
    "ans: When the functions call returns the local variables are destroyed."
   ]
  },
  {
   "cell_type": "raw",
   "id": "2d2b6b8a-d66e-45b6-bb64-d3f556c108c4",
   "metadata": {},
   "source": [
    "7. What is the concept of a return value? Is it possible to have a return value in an expression?\n",
    "ans: A return is a value that a function returns to the user when it completes a particular task.\n",
    "     Yes we can have a  return value in an expression."
   ]
  },
  {
   "cell_type": "raw",
   "id": "0b8ebb89-1528-4604-bf80-06285afd3640",
   "metadata": {},
   "source": [
    "8. If a function does not have a return statement, what is the return value of a call to that function?\n",
    "ans: If a function does not have a return statement Python will return a default value ."
   ]
  },
  {
   "cell_type": "raw",
   "id": "005dc20e-758a-49dc-837e-ee2d6e697c12",
   "metadata": {},
   "source": [
    "9. How do you make a function variable refer to the global variable?\n",
    "ans: "
   ]
  },
  {
   "cell_type": "raw",
   "id": "f088899d-6294-46c1-a5a2-31a63e28c651",
   "metadata": {},
   "source": [
    "10. What is the data type of None?\n",
    "ans: None is a data type in Python."
   ]
  },
  {
   "cell_type": "code",
   "execution_count": 3,
   "id": "97a0ba44-9ce6-41f2-be5a-f5b4e44ec053",
   "metadata": {},
   "outputs": [
    {
     "ename": "ModuleNotFoundError",
     "evalue": "No module named 'areallyourpetsnamederic'",
     "output_type": "error",
     "traceback": [
      "\u001b[0;31m---------------------------------------------------------------------------\u001b[0m",
      "\u001b[0;31mModuleNotFoundError\u001b[0m                       Traceback (most recent call last)",
      "Input \u001b[0;32mIn [3]\u001b[0m, in \u001b[0;36m<cell line: 2>\u001b[0;34m()\u001b[0m\n\u001b[1;32m      1\u001b[0m \u001b[38;5;66;03m# 11. What does the sentence import areallyourpetsnamederic do?\u001b[39;00m\n\u001b[0;32m----> 2\u001b[0m \u001b[38;5;28;01mimport\u001b[39;00m \u001b[38;5;21;01mareallyourpetsnamederic\u001b[39;00m\n",
      "\u001b[0;31mModuleNotFoundError\u001b[0m: No module named 'areallyourpetsnamederic'"
     ]
    }
   ],
   "source": [
    "# 11. What does the sentence import areallyourpetsnamederic do?\n",
    "import areallyourpetsnamederic"
   ]
  },
  {
   "cell_type": "raw",
   "id": "1173c342-40fb-4315-a89d-a7256c5422b0",
   "metadata": {},
   "source": [
    "12. If you had a bacon() feature in a spam module, what would you call it after importing spam?\n",
    "ans : The function can be called with spam.bacon() ."
   ]
  },
  {
   "cell_type": "raw",
   "id": "11de8b3c-8f54-41e4-b0bf-7e21a93ac761",
   "metadata": {},
   "source": [
    "13. What can you do to save a programme from crashing if it encounters an error?\n",
    "ans: We can use Exception Handling by writing the code in try block and except ."
   ]
  },
  {
   "cell_type": "raw",
   "id": "969b4649-2aa6-4c14-a7dd-77d993174021",
   "metadata": {},
   "source": [
    "14. What is the purpose of the try clause? What is the purpose of the except clause?\n",
    "ans: Inside a try block we can perform and operation for example and addition operation and if the code inside the try block is successfull then the code will execute and will not go to the except clause . But the code inside the try block creates in error then it will come to except block and print the exception ."
   ]
  },
  {
   "cell_type": "code",
   "execution_count": 4,
   "id": "73030042-bec8-45ae-82e8-f826e679e70a",
   "metadata": {},
   "outputs": [
    {
     "name": "stdin",
     "output_type": "stream",
     "text": [
      "Enter the number : 5\n",
      "Enter the number : 64\n"
     ]
    },
    {
     "name": "stdout",
     "output_type": "stream",
     "text": [
      "Addition : 69\n"
     ]
    }
   ],
   "source": [
    "try :\n",
    "    a = int(input(\"Enter the number :\"))\n",
    "    b = int(input(\"Enter the number :\"))\n",
    "    sum = a+b\n",
    "    print(\"Addition :\",sum)\n",
    "except Exception as e :\n",
    "    print(\"Error :\", e)"
   ]
  },
  {
   "cell_type": "code",
   "execution_count": 5,
   "id": "da4a7174-2e71-46d7-a406-6fc403b60af4",
   "metadata": {},
   "outputs": [
    {
     "name": "stdin",
     "output_type": "stream",
     "text": [
      "Enter the number : 5\n",
      "Enter the number : arshad\n"
     ]
    },
    {
     "name": "stdout",
     "output_type": "stream",
     "text": [
      "Error : invalid literal for int() with base 10: 'arshad'\n"
     ]
    }
   ],
   "source": [
    "try :\n",
    "    a = int(input(\"Enter the number :\"))\n",
    "    b = int(input(\"Enter the number :\"))\n",
    "    sum = a+b\n",
    "    print(\"Addition :\",sum)\n",
    "except Exception as e :\n",
    "    print(\"Error :\", e)"
   ]
  },
  {
   "cell_type": "code",
   "execution_count": null,
   "id": "ef300fc1-9ce0-4351-b53a-94bf9e6ab54f",
   "metadata": {},
   "outputs": [],
   "source": []
  }
 ],
 "metadata": {
  "kernelspec": {
   "display_name": "Python 3 (ipykernel)",
   "language": "python",
   "name": "python3"
  },
  "language_info": {
   "codemirror_mode": {
    "name": "ipython",
    "version": 3
   },
   "file_extension": ".py",
   "mimetype": "text/x-python",
   "name": "python",
   "nbconvert_exporter": "python",
   "pygments_lexer": "ipython3",
   "version": "3.9.12"
  }
 },
 "nbformat": 4,
 "nbformat_minor": 5
}
