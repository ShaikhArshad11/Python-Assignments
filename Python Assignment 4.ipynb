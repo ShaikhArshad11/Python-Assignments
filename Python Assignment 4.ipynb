{
 "cells": [
  {
   "cell_type": "raw",
   "id": "9aa4414e-9ffc-47e3-a68e-56494f1867dd",
   "metadata": {},
   "source": [
    "1. What exactly is []?\n",
    "ans: [ ] brackets are used to create a list inside a Python.\n",
    "example: l = [1 , \"arshad\" , True , 55.6 , 5+6j]"
   ]
  },
  {
   "cell_type": "raw",
   "id": "5d7e7033-16b1-4919-a0b8-49ed6487b93b",
   "metadata": {},
   "source": [
    "2. In a list of values stored in a variable called spam, how would you assign the value 'hello' as the\n",
    "third value? (Assume [2, 4, 6, 8, 10] are in spam.)\n",
    "Let's pretend the spam includes the list ['a','b','c','d'] for the next three queries."
   ]
  },
  {
   "cell_type": "code",
   "execution_count": 5,
   "id": "8046c6b7-2e77-4197-9a35-362b22086328",
   "metadata": {},
   "outputs": [
    {
     "data": {
      "text/plain": [
       "[2, 4, 'hello', 8, 10]"
      ]
     },
     "execution_count": 5,
     "metadata": {},
     "output_type": "execute_result"
    }
   ],
   "source": [
    "## Solutin for 2nd question\n",
    "spam = [2, 4, 6, 8, 10] \n",
    "spam[2] = \"hello\"\n",
    "spam"
   ]
  },
  {
   "cell_type": "raw",
   "id": "103fe5ea-17fd-4f4a-b6e2-8cadcabc3050",
   "metadata": {},
   "source": [
    "3. What is the value of spam[int(int('3' * 2) / 11)]?\n",
    "spam = ['a','b','c','d']"
   ]
  },
  {
   "cell_type": "code",
   "execution_count": 7,
   "id": "19f92ca2-21d1-4376-987c-e820fb8f2117",
   "metadata": {},
   "outputs": [
    {
     "data": {
      "text/plain": [
       "'d'"
      ]
     },
     "execution_count": 7,
     "metadata": {},
     "output_type": "execute_result"
    }
   ],
   "source": [
    "## Solution for question 3\n",
    "spam = ['a','b','c','d']\n",
    "spam[int(int('3' * 2) / 11)]"
   ]
  },
  {
   "cell_type": "raw",
   "id": "19b5b47c-b1f7-4703-80db-fb455d665880",
   "metadata": {},
   "source": [
    "4. What is the value of spam[-1]?"
   ]
  },
  {
   "cell_type": "code",
   "execution_count": 8,
   "id": "ebd29d70-5f7f-4622-91a6-98013f1491d4",
   "metadata": {},
   "outputs": [
    {
     "data": {
      "text/plain": [
       "'d'"
      ]
     },
     "execution_count": 8,
     "metadata": {},
     "output_type": "execute_result"
    }
   ],
   "source": [
    "## Solution for question 4\n",
    "spam[-1]     # it will value of the last index position"
   ]
  },
  {
   "cell_type": "raw",
   "id": "34790888-0d87-4bf7-b10d-7ab1d2d52e29",
   "metadata": {},
   "source": [
    "5. What is the value of spam[:2]?"
   ]
  },
  {
   "cell_type": "code",
   "execution_count": 9,
   "id": "a08362ee-7625-4705-b7ef-c2e8e9998514",
   "metadata": {},
   "outputs": [
    {
     "data": {
      "text/plain": [
       "['a', 'b']"
      ]
     },
     "execution_count": 9,
     "metadata": {},
     "output_type": "execute_result"
    }
   ],
   "source": [
    "## Soultion for question 5\n",
    "spam[:2]  # by default it will start from the 0th index position and move forward till 2nd position excluding the 2nd poisition"
   ]
  },
  {
   "cell_type": "raw",
   "id": "3c095034-3045-46dc-99ed-542a7bb11409",
   "metadata": {},
   "source": [
    "Let's pretend bacon has the list [3.14, 'cat' 11, 'cat' True] for the next three questions.\n",
    "6. What is the value of bacon.index('cat')?"
   ]
  },
  {
   "cell_type": "code",
   "execution_count": 14,
   "id": "fb5316be-5a33-4c05-80ed-b31008871342",
   "metadata": {},
   "outputs": [
    {
     "data": {
      "text/plain": [
       "1"
      ]
     },
     "execution_count": 14,
     "metadata": {},
     "output_type": "execute_result"
    }
   ],
   "source": [
    "## Solution for 6th question .\n",
    "bacon = [3.14, 'cat',  11, 'cat', True]\n",
    "bacon.index('cat') # it will return the first index value of string cat even if there is repitition "
   ]
  },
  {
   "cell_type": "raw",
   "id": "ea9c9b30-0091-43c5-8b9e-98d626ec22a2",
   "metadata": {},
   "source": [
    "7. How does bacon.append(99) change the look of the list value in bacon?"
   ]
  },
  {
   "cell_type": "code",
   "execution_count": 17,
   "id": "d1b6c125-dba9-4e08-966c-98fb27105aa6",
   "metadata": {},
   "outputs": [
    {
     "data": {
      "text/plain": [
       "[3.14, 'cat', 11, 'cat', True, 99]"
      ]
     },
     "execution_count": 17,
     "metadata": {},
     "output_type": "execute_result"
    }
   ],
   "source": [
    "## Solution for 7th question .\n",
    "bacon = [3.14, 'cat',  11, 'cat', True]\n",
    "bacon.append(99) # By default it will append integer 99 at the last position. \n",
    "bacon"
   ]
  },
  {
   "cell_type": "raw",
   "id": "9b159f1f-89a6-4f36-a61c-52eb8e348890",
   "metadata": {},
   "source": [
    "8. How does bacon.remove('cat') change the look of the list in bacon?"
   ]
  },
  {
   "cell_type": "code",
   "execution_count": 19,
   "id": "d30489cd-23dd-4234-948c-a8a5e331ec6e",
   "metadata": {},
   "outputs": [
    {
     "data": {
      "text/plain": [
       "[3.14, 11, 'cat', True]"
      ]
     },
     "execution_count": 19,
     "metadata": {},
     "output_type": "execute_result"
    }
   ],
   "source": [
    "## Solution for 8th question.\n",
    "bacon = [3.14, 'cat',  11, 'cat', True]\n",
    "bacon.remove('cat') # it will remove the string cat which is occuring first in the list ie. if there is repitition of cat further it will not remove\n",
    "bacon"
   ]
  },
  {
   "cell_type": "raw",
   "id": "bbbcfbe4-e816-4ae8-83c6-9690de1e1116",
   "metadata": {},
   "source": [
    "9. What are the list concatenation and list replication operators?\n",
    "ans: '+' operator can be used to concatenate or join two lists in python.\n",
    "     '*' operator will replicate list in python ."
   ]
  },
  {
   "cell_type": "raw",
   "id": "9a0509d7-185e-48fe-a8e1-0e6f6284bc34",
   "metadata": {},
   "source": [
    "10. What is difference between the list methods append() and insert()?\n",
    "ans: The append() method in list will add/append value at the end of the list.\n",
    "     The insert() method in list inserts specified value at the specified position inside a list."
   ]
  },
  {
   "cell_type": "raw",
   "id": "1756e43d-f5ec-4781-8031-ad3eb38a66d3",
   "metadata": {},
   "source": [
    "11. What are the two methods for removing items from a list?\n",
    "ans: Two methods to remove items from a list are:\n",
    "     1. pop()- it removes the last element in the list.\n",
    "     2. remove()- it removes the specified element from the list."
   ]
  },
  {
   "cell_type": "raw",
   "id": "e3d06586-49cf-483c-8fda-f9d0b14e75b3",
   "metadata": {},
   "source": [
    "12. Describe how list values and string values are identical.\n",
    "ans: List and string are identical because they both are sequences."
   ]
  },
  {
   "cell_type": "raw",
   "id": "b52ee0fa-4edb-4267-b9ce-6ef14dabfff5",
   "metadata": {},
   "source": [
    "13. What's the difference between tuples and lists?\n",
    "ans: 1. Tuples are denoted by ( ) brackets whereas lists are denoted by [] bracket.\n",
    "     2. Elements inside tuples cannot be modified whereas elements inside list can be modified."
   ]
  },
  {
   "cell_type": "code",
   "execution_count": 26,
   "id": "9ea0d8ed-4bd7-4e67-a3a6-78bc048e67ec",
   "metadata": {},
   "outputs": [
    {
     "data": {
      "text/plain": [
       "(42,)"
      ]
     },
     "execution_count": 26,
     "metadata": {},
     "output_type": "execute_result"
    }
   ],
   "source": [
    "# 14. How do you type a tuple value that only contains the integer 42?\n",
    "(42,)"
   ]
  },
  {
   "cell_type": "raw",
   "id": "67ef1e5a-0603-482e-bc44-8f91898a3ecd",
   "metadata": {},
   "source": [
    "15. How do you get a list value's tuple form? How do you get a tuple value's list form?\n",
    "ans: By using the function tuple() we can get list value in tuple form but we cannot get tuple value in list form\n",
    "     it will throw error ."
   ]
  },
  {
   "cell_type": "raw",
   "id": "db3bb013-d512-46e8-ab67-3ae6e42646dc",
   "metadata": {},
   "source": [
    "16. Variables that \"contain\" list values are not necessarily lists themselves. Instead, what do they\n",
    "contain?\n",
    "ans: They just contain refrence to list."
   ]
  },
  {
   "cell_type": "raw",
   "id": "605ccb7f-74bd-4cb6-aa4c-e00216e70f7e",
   "metadata": {},
   "source": [
    "17. How do you distinguish between copy.copy() and copy.deepcopy()?\n",
    "ans: The copy.copy() function will copy of a list while copy.deepcopy() function will duplicate any list inside a list"
   ]
  }
 ],
 "metadata": {
  "kernelspec": {
   "display_name": "Python 3 (ipykernel)",
   "language": "python",
   "name": "python3"
  },
  "language_info": {
   "codemirror_mode": {
    "name": "ipython",
    "version": 3
   },
   "file_extension": ".py",
   "mimetype": "text/x-python",
   "name": "python",
   "nbconvert_exporter": "python",
   "pygments_lexer": "ipython3",
   "version": "3.9.12"
  }
 },
 "nbformat": 4,
 "nbformat_minor": 5
}
