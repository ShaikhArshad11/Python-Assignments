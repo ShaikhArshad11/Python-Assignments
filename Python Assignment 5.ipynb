{
 "cells": [
  {
   "cell_type": "raw",
   "id": "386db082-c8c0-4818-afd7-338d49029f4e",
   "metadata": {},
   "source": [
    "1. What does an empty dictionary's code look like?"
   ]
  },
  {
   "cell_type": "code",
   "execution_count": 3,
   "id": "4aa3c094-dbca-44dd-abc9-eb51a1bd0ca7",
   "metadata": {},
   "outputs": [
    {
     "data": {
      "text/plain": [
       "{}"
      ]
     },
     "execution_count": 3,
     "metadata": {},
     "output_type": "execute_result"
    }
   ],
   "source": [
    "## Solution for 1sr question\n",
    "d ={}\n",
    "d"
   ]
  },
  {
   "cell_type": "raw",
   "id": "3f82b755-3a18-430b-9c81-e1b3f198a8dc",
   "metadata": {},
   "source": [
    "2. What is the value of a dictionary value with the key \"foo\" and the value 42?"
   ]
  },
  {
   "cell_type": "code",
   "execution_count": 5,
   "id": "89df2088-43d5-4d1c-bd2b-9ab5d8e6f2e5",
   "metadata": {},
   "outputs": [
    {
     "data": {
      "text/plain": [
       "{'foo': 42}"
      ]
     },
     "execution_count": 5,
     "metadata": {},
     "output_type": "execute_result"
    }
   ],
   "source": [
    "## Solution for 2nd question\n",
    "d1 = {\"foo\" : 42}\n",
    "d1"
   ]
  },
  {
   "cell_type": "raw",
   "id": "5eccf18e-e920-46f0-876d-e49d347209d5",
   "metadata": {},
   "source": [
    "3. What is the most significant distinction between a dictionary and a list?\n",
    "ans: A list is a collection of various index values whereas dictionary is a collection of keys and values ."
   ]
  },
  {
   "cell_type": "raw",
   "id": "a6ac38cf-1dea-4b9c-b65a-54d0d67efa2e",
   "metadata": {},
   "source": [
    "4. What happens if you try to access spam['foo'] if spam is {'bar': 100}?\n",
    "ans: It will give an error because 'foo' is not a key in the dictionary spam."
   ]
  },
  {
   "cell_type": "raw",
   "id": "db21e91a-d87d-4d18-abc5-4b0ccf766c3a",
   "metadata": {},
   "source": [
    "6. If a dictionary is stored in spam, what is the difference between the expressions 'cat' in spam and\n",
    "'cat' in spam.values()?\n",
    "ans: cat in spam will check whether there is a key 'cat' present in this dictionary and 'cat' in spam.values() will\n",
    "     check whether there is a values in the dictionary as 'cat' ."
   ]
  },
  {
   "cell_type": "raw",
   "id": "dc2b14b0-d859-4d87-9ebd-e26c2df65a8a",
   "metadata": {},
   "source": [
    "7. What is a shortcut for the following code?\n",
    "if 'color' not in spam:\n",
    "spam['color'] = 'black'\n",
    "ans: spam.setdefault('color','black')"
   ]
  },
  {
   "cell_type": "raw",
   "id": "84c70356-da67-42e2-9189-759995c9b0a8",
   "metadata": {},
   "source": [
    "8. How do you \"pretty print\" dictionary values using which module and function?\n",
    "ans: We need to import pprint   (Module)\n",
    "     and use function pprint.pprint()"
   ]
  }
 ],
 "metadata": {
  "kernelspec": {
   "display_name": "Python 3 (ipykernel)",
   "language": "python",
   "name": "python3"
  },
  "language_info": {
   "codemirror_mode": {
    "name": "ipython",
    "version": 3
   },
   "file_extension": ".py",
   "mimetype": "text/x-python",
   "name": "python",
   "nbconvert_exporter": "python",
   "pygments_lexer": "ipython3",
   "version": "3.9.12"
  }
 },
 "nbformat": 4,
 "nbformat_minor": 5
}
